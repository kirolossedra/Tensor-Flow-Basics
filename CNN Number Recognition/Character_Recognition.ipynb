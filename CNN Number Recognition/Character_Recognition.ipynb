{
  "nbformat": 4,
  "nbformat_minor": 0,
  "metadata": {
    "colab": {
      "provenance": []
    },
    "kernelspec": {
      "name": "python3",
      "display_name": "Python 3"
    },
    "language_info": {
      "name": "python"
    }
  },
  "cells": [
    {
      "cell_type": "code",
      "execution_count": 1,
      "metadata": {
        "id": "MYAOYiyVguVW"
      },
      "outputs": [],
      "source": [
        "import tensorflow as tf\n",
        "import numpy as np\n",
        "import matplotlib.pyplot as plt\n",
        "import pandas as pd\n",
        "from tabulate import tabulate\n",
        "from tensorflow.keras.models import load_model\n",
        "from tensorflow.keras.preprocessing import image\n",
        "from PIL import Image\n",
        "import cv2"
      ]
    },
    {
      "cell_type": "code",
      "source": [
        "# Load the MNIST dataset\n",
        "mnist = tf.keras.datasets.mnist\n",
        "\n",
        "# Split into training and testing data\n",
        "(x_train, y_train), (x_test, y_test) = mnist.load_data()\n",
        "\n",
        "# Normalize the data\n",
        "x_train, x_test = x_train / 255.0, x_test / 255.0"
      ],
      "metadata": {
        "colab": {
          "base_uri": "https://localhost:8080/"
        },
        "id": "tN1APJjnhmO-",
        "outputId": "15a7c862-7b90-44c3-c5b8-4460f301916d"
      },
      "execution_count": 2,
      "outputs": [
        {
          "output_type": "stream",
          "name": "stdout",
          "text": [
            "Downloading data from https://storage.googleapis.com/tensorflow/tf-keras-datasets/mnist.npz\n",
            "\u001b[1m11490434/11490434\u001b[0m \u001b[32m━━━━━━━━━━━━━━━━━━━━\u001b[0m\u001b[37m\u001b[0m \u001b[1m0s\u001b[0m 0us/step\n"
          ]
        }
      ]
    },
    {
      "cell_type": "code",
      "source": [
        "# Let us try any index\n",
        "index=0\n",
        "\n",
        "# Set the number of characters per row when printing\n",
        "np.set_printoptions(linewidth=320)\n",
        "\n",
        "\n",
        "# print the label and image respectively\n",
        "print(f'Image but as an array:{x_train[index]}')\n",
        "\n",
        "\n",
        "\n",
        "\n",
        "# View the image\n",
        "plt.imshow(x_train[index])\n",
        "plt.colorbar()\n",
        "plt.show()"
      ],
      "metadata": {
        "colab": {
          "base_uri": "https://localhost:8080/",
          "height": 963
        },
        "id": "op4QDsNPh4a-",
        "outputId": "3b2d51f0-9b7b-4cfe-913c-cf189fba0bf3"
      },
      "execution_count": 4,
      "outputs": [
        {
          "output_type": "stream",
          "name": "stdout",
          "text": [
            "Image but as an array:[[0.         0.         0.         0.         0.         0.         0.         0.         0.         0.         0.         0.         0.         0.         0.         0.         0.         0.         0.         0.         0.         0.         0.         0.         0.         0.         0.         0.        ]\n",
            " [0.         0.         0.         0.         0.         0.         0.         0.         0.         0.         0.         0.         0.         0.         0.         0.         0.         0.         0.         0.         0.         0.         0.         0.         0.         0.         0.         0.        ]\n",
            " [0.         0.         0.         0.         0.         0.         0.         0.         0.         0.         0.         0.         0.         0.         0.         0.         0.         0.         0.         0.         0.         0.         0.         0.         0.         0.         0.         0.        ]\n",
            " [0.         0.         0.         0.         0.         0.         0.         0.         0.         0.         0.         0.         0.         0.         0.         0.         0.         0.         0.         0.         0.         0.         0.         0.         0.         0.         0.         0.        ]\n",
            " [0.         0.         0.         0.         0.         0.         0.         0.         0.         0.         0.         0.         0.         0.         0.         0.         0.         0.         0.         0.         0.         0.         0.         0.         0.         0.         0.         0.        ]\n",
            " [0.         0.         0.         0.         0.         0.         0.         0.         0.         0.         0.         0.         0.01176471 0.07058824 0.07058824 0.07058824 0.49411765 0.53333333 0.68627451 0.10196078 0.65098039 1.         0.96862745 0.49803922 0.         0.         0.         0.        ]\n",
            " [0.         0.         0.         0.         0.         0.         0.         0.         0.11764706 0.14117647 0.36862745 0.60392157 0.66666667 0.99215686 0.99215686 0.99215686 0.99215686 0.99215686 0.88235294 0.6745098  0.99215686 0.94901961 0.76470588 0.25098039 0.         0.         0.         0.        ]\n",
            " [0.         0.         0.         0.         0.         0.         0.         0.19215686 0.93333333 0.99215686 0.99215686 0.99215686 0.99215686 0.99215686 0.99215686 0.99215686 0.99215686 0.98431373 0.36470588 0.32156863 0.32156863 0.21960784 0.15294118 0.         0.         0.         0.         0.        ]\n",
            " [0.         0.         0.         0.         0.         0.         0.         0.07058824 0.85882353 0.99215686 0.99215686 0.99215686 0.99215686 0.99215686 0.77647059 0.71372549 0.96862745 0.94509804 0.         0.         0.         0.         0.         0.         0.         0.         0.         0.        ]\n",
            " [0.         0.         0.         0.         0.         0.         0.         0.         0.31372549 0.61176471 0.41960784 0.99215686 0.99215686 0.80392157 0.04313725 0.         0.16862745 0.60392157 0.         0.         0.         0.         0.         0.         0.         0.         0.         0.        ]\n",
            " [0.         0.         0.         0.         0.         0.         0.         0.         0.         0.05490196 0.00392157 0.60392157 0.99215686 0.35294118 0.         0.         0.         0.         0.         0.         0.         0.         0.         0.         0.         0.         0.         0.        ]\n",
            " [0.         0.         0.         0.         0.         0.         0.         0.         0.         0.         0.         0.54509804 0.99215686 0.74509804 0.00784314 0.         0.         0.         0.         0.         0.         0.         0.         0.         0.         0.         0.         0.        ]\n",
            " [0.         0.         0.         0.         0.         0.         0.         0.         0.         0.         0.         0.04313725 0.74509804 0.99215686 0.2745098  0.         0.         0.         0.         0.         0.         0.         0.         0.         0.         0.         0.         0.        ]\n",
            " [0.         0.         0.         0.         0.         0.         0.         0.         0.         0.         0.         0.         0.1372549  0.94509804 0.88235294 0.62745098 0.42352941 0.00392157 0.         0.         0.         0.         0.         0.         0.         0.         0.         0.        ]\n",
            " [0.         0.         0.         0.         0.         0.         0.         0.         0.         0.         0.         0.         0.         0.31764706 0.94117647 0.99215686 0.99215686 0.46666667 0.09803922 0.         0.         0.         0.         0.         0.         0.         0.         0.        ]\n",
            " [0.         0.         0.         0.         0.         0.         0.         0.         0.         0.         0.         0.         0.         0.         0.17647059 0.72941176 0.99215686 0.99215686 0.58823529 0.10588235 0.         0.         0.         0.         0.         0.         0.         0.        ]\n",
            " [0.         0.         0.         0.         0.         0.         0.         0.         0.         0.         0.         0.         0.         0.         0.         0.0627451  0.36470588 0.98823529 0.99215686 0.73333333 0.         0.         0.         0.         0.         0.         0.         0.        ]\n",
            " [0.         0.         0.         0.         0.         0.         0.         0.         0.         0.         0.         0.         0.         0.         0.         0.         0.         0.97647059 0.99215686 0.97647059 0.25098039 0.         0.         0.         0.         0.         0.         0.        ]\n",
            " [0.         0.         0.         0.         0.         0.         0.         0.         0.         0.         0.         0.         0.         0.         0.18039216 0.50980392 0.71764706 0.99215686 0.99215686 0.81176471 0.00784314 0.         0.         0.         0.         0.         0.         0.        ]\n",
            " [0.         0.         0.         0.         0.         0.         0.         0.         0.         0.         0.         0.         0.15294118 0.58039216 0.89803922 0.99215686 0.99215686 0.99215686 0.98039216 0.71372549 0.         0.         0.         0.         0.         0.         0.         0.        ]\n",
            " [0.         0.         0.         0.         0.         0.         0.         0.         0.         0.         0.09411765 0.44705882 0.86666667 0.99215686 0.99215686 0.99215686 0.99215686 0.78823529 0.30588235 0.         0.         0.         0.         0.         0.         0.         0.         0.        ]\n",
            " [0.         0.         0.         0.         0.         0.         0.         0.         0.09019608 0.25882353 0.83529412 0.99215686 0.99215686 0.99215686 0.99215686 0.77647059 0.31764706 0.00784314 0.         0.         0.         0.         0.         0.         0.         0.         0.         0.        ]\n",
            " [0.         0.         0.         0.         0.         0.         0.07058824 0.67058824 0.85882353 0.99215686 0.99215686 0.99215686 0.99215686 0.76470588 0.31372549 0.03529412 0.         0.         0.         0.         0.         0.         0.         0.         0.         0.         0.         0.        ]\n",
            " [0.         0.         0.         0.         0.21568627 0.6745098  0.88627451 0.99215686 0.99215686 0.99215686 0.99215686 0.95686275 0.52156863 0.04313725 0.         0.         0.         0.         0.         0.         0.         0.         0.         0.         0.         0.         0.         0.        ]\n",
            " [0.         0.         0.         0.         0.53333333 0.99215686 0.99215686 0.99215686 0.83137255 0.52941176 0.51764706 0.0627451  0.         0.         0.         0.         0.         0.         0.         0.         0.         0.         0.         0.         0.         0.         0.         0.        ]\n",
            " [0.         0.         0.         0.         0.         0.         0.         0.         0.         0.         0.         0.         0.         0.         0.         0.         0.         0.         0.         0.         0.         0.         0.         0.         0.         0.         0.         0.        ]\n",
            " [0.         0.         0.         0.         0.         0.         0.         0.         0.         0.         0.         0.         0.         0.         0.         0.         0.         0.         0.         0.         0.         0.         0.         0.         0.         0.         0.         0.        ]\n",
            " [0.         0.         0.         0.         0.         0.         0.         0.         0.         0.         0.         0.         0.         0.         0.         0.         0.         0.         0.         0.         0.         0.         0.         0.         0.         0.         0.         0.        ]]\n"
          ]
        },
        {
          "output_type": "display_data",
          "data": {
            "text/plain": [
              "<Figure size 640x480 with 2 Axes>"
            ],
            "image/png": "[encoded data removed]"
          },
          "metadata": {}
        }
      ]
    },
    {
      "cell_type": "code",
      "source": [
        "# Defining the model\n",
        "model = tf.keras.models.Sequential([\n",
        "\n",
        "          tf.keras.Input(shape=(28,28,1)),\n",
        "          tf.keras.layers.Conv2D(64,(3,3),activation='relu'),\n",
        "          tf.keras.layers.MaxPooling2D(2,2),\n",
        "          tf.keras.layers.Conv2D(64,(3,3),activation='relu'),\n",
        "          tf.keras.layers.MaxPooling2D(2,2),\n",
        "          tf.keras.layers.Flatten(),\n",
        "          tf.keras.layers.Dense(128, activation=tf.nn.relu),\n",
        "          tf.keras.layers.Dense(10, activation=tf.nn.softmax)\n",
        "\n",
        "\n",
        "\n",
        "])\n",
        "\n",
        "model.summary()"
      ],
      "metadata": {
        "colab": {
          "base_uri": "https://localhost:8080/",
          "height": 353
        },
        "id": "wWCqymPdiQZm",
        "outputId": "e6fdd0c4-8e47-411f-e06d-4ea4f91742f1"
      },
      "execution_count": 15,
      "outputs": [
        {
          "output_type": "display_data",
          "data": {
            "text/plain": [
              "\u001b[1mModel: \"sequential_1\"\u001b[0m\n"
            ],
            "text/html": [
              "<pre style=\"white-space:pre;overflow-x:auto;line-height:normal;font-family:Menlo,'DejaVu Sans Mono',consolas,'Courier New',monospace\"><span style=\"font-weight: bold\">Model: \"sequential_1\"</span>\n",
              "</pre>\n"
            ]
          },
          "metadata": {}
        },
        {
          "output_type": "display_data",
          "data": {
            "text/plain": [
              "┏━━━━━━━━━━━━━━━━━━━━━━━━━━━━━━━━━━━━━━┳━━━━━━━━━━━━━━━━━━━━━━━━━━━━━┳━━━━━━━━━━━━━━━━━┓\n",
              "┃\u001b[1m \u001b[0m\u001b[1mLayer (type)                        \u001b[0m\u001b[1m \u001b[0m┃\u001b[1m \u001b[0m\u001b[1mOutput Shape               \u001b[0m\u001b[1m \u001b[0m┃\u001b[1m \u001b[0m\u001b[1m        Param #\u001b[0m\u001b[1m \u001b[0m┃\n",
              "┡━━━━━━━━━━━━━━━━━━━━━━━━━━━━━━━━━━━━━━╇━━━━━━━━━━━━━━━━━━━━━━━━━━━━━╇━━━━━━━━━━━━━━━━━┩\n",
              "│ conv2d_2 (\u001b[38;5;33mConv2D\u001b[0m)                    │ (\u001b[38;5;45mNone\u001b[0m, \u001b[38;5;34m26\u001b[0m, \u001b[38;5;34m26\u001b[0m, \u001b[38;5;34m64\u001b[0m)          │             \u001b[38;5;34m640\u001b[0m │\n",
              "├──────────────────────────────────────┼─────────────────────────────┼─────────────────┤\n",
              "│ max_pooling2d_2 (\u001b[38;5;33mMaxPooling2D\u001b[0m)       │ (\u001b[38;5;45mNone\u001b[0m, \u001b[38;5;34m13\u001b[0m, \u001b[38;5;34m13\u001b[0m, \u001b[38;5;34m64\u001b[0m)          │               \u001b[38;5;34m0\u001b[0m │\n",
              "├──────────────────────────────────────┼─────────────────────────────┼─────────────────┤\n",
              "│ conv2d_3 (\u001b[38;5;33mConv2D\u001b[0m)                    │ (\u001b[38;5;45mNone\u001b[0m, \u001b[38;5;34m11\u001b[0m, \u001b[38;5;34m11\u001b[0m, \u001b[38;5;34m64\u001b[0m)          │          \u001b[38;5;34m36,928\u001b[0m │\n",
              "├──────────────────────────────────────┼─────────────────────────────┼─────────────────┤\n",
              "│ max_pooling2d_3 (\u001b[38;5;33mMaxPooling2D\u001b[0m)       │ (\u001b[38;5;45mNone\u001b[0m, \u001b[38;5;34m5\u001b[0m, \u001b[38;5;34m5\u001b[0m, \u001b[38;5;34m64\u001b[0m)            │               \u001b[38;5;34m0\u001b[0m │\n",
              "├──────────────────────────────────────┼─────────────────────────────┼─────────────────┤\n",
              "│ flatten_1 (\u001b[38;5;33mFlatten\u001b[0m)                  │ (\u001b[38;5;45mNone\u001b[0m, \u001b[38;5;34m1600\u001b[0m)                │               \u001b[38;5;34m0\u001b[0m │\n",
              "├──────────────────────────────────────┼─────────────────────────────┼─────────────────┤\n",
              "│ dense_2 (\u001b[38;5;33mDense\u001b[0m)                      │ (\u001b[38;5;45mNone\u001b[0m, \u001b[38;5;34m128\u001b[0m)                 │         \u001b[38;5;34m204,928\u001b[0m │\n",
              "├──────────────────────────────────────┼─────────────────────────────┼─────────────────┤\n",
              "│ dense_3 (\u001b[38;5;33mDense\u001b[0m)                      │ (\u001b[38;5;45mNone\u001b[0m, \u001b[38;5;34m10\u001b[0m)                  │           \u001b[38;5;34m1,290\u001b[0m │\n",
              "└──────────────────────────────────────┴─────────────────────────────┴─────────────────┘\n"
            ],
            "text/html": [
              "<pre style=\"white-space:pre;overflow-x:auto;line-height:normal;font-family:Menlo,'DejaVu Sans Mono',consolas,'Courier New',monospace\">┏━━━━━━━━━━━━━━━━━━━━━━━━━━━━━━━━━━━━━━┳━━━━━━━━━━━━━━━━━━━━━━━━━━━━━┳━━━━━━━━━━━━━━━━━┓\n",
              "┃<span style=\"font-weight: bold\"> Layer (type)                         </span>┃<span style=\"font-weight: bold\"> Output Shape                </span>┃<span style=\"font-weight: bold\">         Param # </span>┃\n",
              "┡━━━━━━━━━━━━━━━━━━━━━━━━━━━━━━━━━━━━━━╇━━━━━━━━━━━━━━━━━━━━━━━━━━━━━╇━━━━━━━━━━━━━━━━━┩\n",
              "│ conv2d_2 (<span style=\"color: #0087ff; text-decoration-color: #0087ff\">Conv2D</span>)                    │ (<span style=\"color: #00d7ff; text-decoration-color: #00d7ff\">None</span>, <span style=\"color: #00af00; text-decoration-color: #00af00\">26</span>, <span style=\"color: #00af00; text-decoration-color: #00af00\">26</span>, <span style=\"color: #00af00; text-decoration-color: #00af00\">64</span>)          │             <span style=\"color: #00af00; text-decoration-color: #00af00\">640</span> │\n",
              "├──────────────────────────────────────┼─────────────────────────────┼─────────────────┤\n",
              "│ max_pooling2d_2 (<span style=\"color: #0087ff; text-decoration-color: #0087ff\">MaxPooling2D</span>)       │ (<span style=\"color: #00d7ff; text-decoration-color: #00d7ff\">None</span>, <span style=\"color: #00af00; text-decoration-color: #00af00\">13</span>, <span style=\"color: #00af00; text-decoration-color: #00af00\">13</span>, <span style=\"color: #00af00; text-decoration-color: #00af00\">64</span>)          │               <span style=\"color: #00af00; text-decoration-color: #00af00\">0</span> │\n",
              "├──────────────────────────────────────┼─────────────────────────────┼─────────────────┤\n",
              "│ conv2d_3 (<span style=\"color: #0087ff; text-decoration-color: #0087ff\">Conv2D</span>)                    │ (<span style=\"color: #00d7ff; text-decoration-color: #00d7ff\">None</span>, <span style=\"color: #00af00; text-decoration-color: #00af00\">11</span>, <span style=\"color: #00af00; text-decoration-color: #00af00\">11</span>, <span style=\"color: #00af00; text-decoration-color: #00af00\">64</span>)          │          <span style=\"color: #00af00; text-decoration-color: #00af00\">36,928</span> │\n",
              "├──────────────────────────────────────┼─────────────────────────────┼─────────────────┤\n",
              "│ max_pooling2d_3 (<span style=\"color: #0087ff; text-decoration-color: #0087ff\">MaxPooling2D</span>)       │ (<span style=\"color: #00d7ff; text-decoration-color: #00d7ff\">None</span>, <span style=\"color: #00af00; text-decoration-color: #00af00\">5</span>, <span style=\"color: #00af00; text-decoration-color: #00af00\">5</span>, <span style=\"color: #00af00; text-decoration-color: #00af00\">64</span>)            │               <span style=\"color: #00af00; text-decoration-color: #00af00\">0</span> │\n",
              "├──────────────────────────────────────┼─────────────────────────────┼─────────────────┤\n",
              "│ flatten_1 (<span style=\"color: #0087ff; text-decoration-color: #0087ff\">Flatten</span>)                  │ (<span style=\"color: #00d7ff; text-decoration-color: #00d7ff\">None</span>, <span style=\"color: #00af00; text-decoration-color: #00af00\">1600</span>)                │               <span style=\"color: #00af00; text-decoration-color: #00af00\">0</span> │\n",
              "├──────────────────────────────────────┼─────────────────────────────┼─────────────────┤\n",
              "│ dense_2 (<span style=\"color: #0087ff; text-decoration-color: #0087ff\">Dense</span>)                      │ (<span style=\"color: #00d7ff; text-decoration-color: #00d7ff\">None</span>, <span style=\"color: #00af00; text-decoration-color: #00af00\">128</span>)                 │         <span style=\"color: #00af00; text-decoration-color: #00af00\">204,928</span> │\n",
              "├──────────────────────────────────────┼─────────────────────────────┼─────────────────┤\n",
              "│ dense_3 (<span style=\"color: #0087ff; text-decoration-color: #0087ff\">Dense</span>)                      │ (<span style=\"color: #00d7ff; text-decoration-color: #00d7ff\">None</span>, <span style=\"color: #00af00; text-decoration-color: #00af00\">10</span>)                  │           <span style=\"color: #00af00; text-decoration-color: #00af00\">1,290</span> │\n",
              "└──────────────────────────────────────┴─────────────────────────────┴─────────────────┘\n",
              "</pre>\n"
            ]
          },
          "metadata": {}
        },
        {
          "output_type": "display_data",
          "data": {
            "text/plain": [
              "\u001b[1m Total params: \u001b[0m\u001b[38;5;34m243,786\u001b[0m (952.29 KB)\n"
            ],
            "text/html": [
              "<pre style=\"white-space:pre;overflow-x:auto;line-height:normal;font-family:Menlo,'DejaVu Sans Mono',consolas,'Courier New',monospace\"><span style=\"font-weight: bold\"> Total params: </span><span style=\"color: #00af00; text-decoration-color: #00af00\">243,786</span> (952.29 KB)\n",
              "</pre>\n"
            ]
          },
          "metadata": {}
        },
        {
          "output_type": "display_data",
          "data": {
            "text/plain": [
              "\u001b[1m Trainable params: \u001b[0m\u001b[38;5;34m243,786\u001b[0m (952.29 KB)\n"
            ],
            "text/html": [
              "<pre style=\"white-space:pre;overflow-x:auto;line-height:normal;font-family:Menlo,'DejaVu Sans Mono',consolas,'Courier New',monospace\"><span style=\"font-weight: bold\"> Trainable params: </span><span style=\"color: #00af00; text-decoration-color: #00af00\">243,786</span> (952.29 KB)\n",
              "</pre>\n"
            ]
          },
          "metadata": {}
        },
        {
          "output_type": "display_data",
          "data": {
            "text/plain": [
              "\u001b[1m Non-trainable params: \u001b[0m\u001b[38;5;34m0\u001b[0m (0.00 B)\n"
            ],
            "text/html": [
              "<pre style=\"white-space:pre;overflow-x:auto;line-height:normal;font-family:Menlo,'DejaVu Sans Mono',consolas,'Courier New',monospace\"><span style=\"font-weight: bold\"> Non-trainable params: </span><span style=\"color: #00af00; text-decoration-color: #00af00\">0</span> (0.00 B)\n",
              "</pre>\n"
            ]
          },
          "metadata": {}
        }
      ]
    },
    {
      "cell_type": "code",
      "source": [
        "class myCallback(tf.keras.callbacks.Callback):\n",
        "    def on_epoch_end(self,epoch,logs={}):\n",
        "      if(logs.get('accuracy')>0.99):\n",
        "        print(\"\\nReached 99% accuracy so cancelling training!\")\n",
        "        self.model.stop_training = True"
      ],
      "metadata": {
        "id": "c0zdToEsipub"
      },
      "execution_count": 16,
      "outputs": []
    },
    {
      "cell_type": "code",
      "source": [
        "callbacks = myCallback()\n",
        "\n",
        "model.compile(optimizer= tf.optimizers.Adam(),\n",
        "         loss = 'sparse_categorical_crossentropy'   ,\n",
        "              metrics=['accuracy']\n",
        "              )\n",
        "\n",
        "# Train the model with the validation data\n",
        "history = model.fit(\n",
        "    x_train, y_train,\n",
        "    epochs=100,\n",
        "\n",
        "    callbacks=[callbacks]  # Custom callback for stopping early\n",
        ")\n",
        "\n"
      ],
      "metadata": {
        "colab": {
          "base_uri": "https://localhost:8080/"
        },
        "id": "qkvKUQDgieoV",
        "outputId": "1cebe189-67f2-41f9-f1ce-5dd49e9be5e6"
      },
      "execution_count": 17,
      "outputs": [
        {
          "output_type": "stream",
          "name": "stdout",
          "text": [
            "Epoch 1/100\n",
            "\u001b[1m1875/1875\u001b[0m \u001b[32m━━━━━━━━━━━━━━━━━━━━\u001b[0m\u001b[37m\u001b[0m \u001b[1m163s\u001b[0m 49ms/step - accuracy: 0.9184 - loss: 0.2691\n",
            "Epoch 2/100\n",
            "\u001b[1m1875/1875\u001b[0m \u001b[32m━━━━━━━━━━━━━━━━━━━━\u001b[0m\u001b[37m\u001b[0m \u001b[1m93s\u001b[0m 50ms/step - accuracy: 0.9871 - loss: 0.0409\n",
            "Epoch 3/100\n",
            "\u001b[1m1875/1875\u001b[0m \u001b[32m━━━━━━━━━━━━━━━━━━━━\u001b[0m\u001b[37m\u001b[0m \u001b[1m0s\u001b[0m 50ms/step - accuracy: 0.9916 - loss: 0.0258\n",
            "Reached 99% accuracy so cancelling training!\n",
            "\u001b[1m1875/1875\u001b[0m \u001b[32m━━━━━━━━━━━━━━━━━━━━\u001b[0m\u001b[37m\u001b[0m \u001b[1m142s\u001b[0m 50ms/step - accuracy: 0.9916 - loss: 0.0258\n"
          ]
        }
      ]
    },
    {
      "cell_type": "code",
      "source": [
        "# Example image path\n",
        "img_path = 'num.png'  # Replace with your image path\n",
        "\n",
        "def process_fashion_image(image_path):\n",
        "    # Load and convert the image to grayscale\n",
        "    image = Image.open(image_path).convert('L')\n",
        "\n",
        "    # Resize the image to 28x28 pixels\n",
        "    image = image.resize((28, 28))\n",
        "\n",
        "    # Convert the image to a NumPy array\n",
        "    image_array = np.array(image)\n",
        "\n",
        "    # Normalize the pixel values to the range [0, 1]\n",
        "    image_array = image_array / 255.0\n",
        "\n",
        "    # Ensure the array is in the shape expected by TensorFlow (batch size, height, width, channels)\n",
        "    image_array = np.expand_dims(image_array, axis=0)  # Add batch dimension\n",
        "    image_array = np.expand_dims(image_array, axis=-1)  # Add channel dimension\n",
        "\n",
        "    # Print the shape of the array to debug\n",
        "    print(\"Shape of input array:\", image_array.shape)\n",
        "\n",
        "    # Print the normalized image array in grid format\n",
        "    print(\"Normalized Image Array:\")\n",
        "    print(image_array.squeeze())  # Remove batch and channel dimensions for display\n",
        "\n",
        "    # Display the image\n",
        "    plt.imshow(image_array.squeeze(), cmap='gray')\n",
        "    plt.title('Processed Fashion Image')\n",
        "    plt.axis('off')\n",
        "    plt.show()\n",
        "\n",
        "    # Convert the NumPy array to a TensorFlow tensor\n",
        "    image_tensor = tf.convert_to_tensor(image_array, dtype=tf.float32)\n",
        "\n",
        "    return image_tensor"
      ],
      "metadata": {
        "id": "hctFTI1OkqC8"
      },
      "execution_count": 18,
      "outputs": []
    },
    {
      "cell_type": "code",
      "source": [
        "\n",
        "\n",
        "# Example usage\n",
        "image_tensor = process_fashion_image('num.png')\n",
        "\n",
        "\n",
        "\n",
        "def invert_image(image_array):\n",
        "    \"\"\"\n",
        "    Inverts the normalized image array.\n",
        "\n",
        "    Parameters:\n",
        "    - image_array (np.ndarray): The normalized image array with values in the range [0, 1].\n",
        "\n",
        "    Returns:\n",
        "    - np.ndarray: The inverted image array.\n",
        "    \"\"\"\n",
        "    # Ensure the image array is a NumPy array\n",
        "    image_array = np.array(image_array)\n",
        "\n",
        "    # Invert the image by subtracting from 1\n",
        "    inverted_image = 1.0 - image_array\n",
        "\n",
        "    return inverted_image\n",
        "\n",
        "image_tensor = invert_image(image_tensor)\n",
        "# Make prediction\n",
        "predictions = model.predict(image_tensor)\n",
        "predicted_class = np.argmax(predictions, axis=1)\n",
        "\n",
        "# Display the result\n",
        "print(f'The predicted class is: {predicted_class}')\n",
        "\n",
        "# Display the image\n",
        "img = Image.open('num.png')\n",
        "plt.imshow(img, cmap='gray')\n",
        "plt.title(f'Predicted Class: {predicted_class}')\n",
        "plt.axis('off')\n",
        "plt.show()\n"
      ],
      "metadata": {
        "colab": {
          "base_uri": "https://localhost:8080/",
          "height": 1000
        },
        "id": "gaJAnL9ZrLW8",
        "outputId": "9e6bb7fa-5372-4001-ad49-68707b020d4a"
      },
      "execution_count": 23,
      "outputs": [
        {
          "output_type": "stream",
          "name": "stdout",
          "text": [
            "Shape of input array: (1, 28, 28, 1)\n",
            "Normalized Image Array:\n",
            "[[0.95294118 0.94901961 0.95294118 0.95294118 0.95294118 0.95294118 0.94901961 0.95686275 0.98823529 0.93333333 0.74901961 0.55686275 0.43137255 0.39215686 0.42745098 0.54901961 0.74117647 0.93333333 0.98823529 0.95686275 0.94901961 0.94901961 0.94901961 0.94901961 0.94901961 0.94901961 0.95294118 0.94901961]\n",
            " [0.94901961 0.95294118 0.94901961 0.94901961 0.94901961 0.94901961 0.96862745 0.94901961 0.59607843 0.2        0.02352941 0.         0.         0.         0.         0.         0.01960784 0.19607843 0.60392157 0.96078431 0.96470588 0.94901961 0.95294118 0.95294118 0.95294118 0.95294118 0.94901961 0.95294118]\n",
            " [0.95294118 0.94901961 0.95294118 0.95294118 0.94901961 0.96862745 0.89019608 0.28627451 0.         0.         0.         0.         0.         0.         0.         0.         0.         0.         0.         0.34509804 0.93333333 0.96078431 0.94901961 0.94901961 0.94901961 0.94901961 0.95294118 0.94901961]\n",
            " [0.95294118 0.94901961 0.95294118 0.94901961 0.95686275 0.94509804 0.27058824 0.         0.         0.         0.         0.         0.         0.         0.         0.         0.         0.         0.         0.         0.36470588 0.96862745 0.95294118 0.94901961 0.94901961 0.94901961 0.95294118 0.94901961]\n",
            " [0.95294118 0.94901961 0.95294118 0.94901961 0.98823529 0.58431373 0.         0.         0.         0.         0.         0.01568627 0.18823529 0.25098039 0.14901961 0.         0.         0.         0.         0.         0.         0.66666667 0.98039216 0.94901961 0.94901961 0.94901961 0.95294118 0.94901961]\n",
            " [0.95294118 0.94901961 0.95294118 0.95686275 0.94117647 0.18431373 0.         0.         0.         0.         0.14117647 0.74117647 0.95294118 0.96862745 0.9372549  0.62745098 0.05882353 0.         0.         0.         0.         0.27058824 0.96862745 0.95294118 0.94901961 0.94901961 0.95294118 0.94901961]\n",
            " [0.95294118 0.95294118 0.95294118 0.97254902 0.78431373 0.01568627 0.         0.         0.         0.01960784 0.71764706 1.         0.95686275 0.95294118 0.95686275 1.         0.51372549 0.         0.         0.         0.         0.08235294 0.88235294 0.96078431 0.95294118 0.95294118 0.95294118 0.94901961]\n",
            " [0.94901961 0.95294118 0.95294118 0.98823529 0.58823529 0.         0.         0.         0.         0.16470588 0.94901961 0.95686275 0.94901961 0.95294118 0.94901961 0.97254902 0.79215686 0.01960784 0.         0.         0.         0.02745098 0.81176471 0.97254902 0.95294118 0.95294118 0.95294118 0.95294118]\n",
            " [0.94901961 0.95294118 0.94901961 0.96862745 0.74117647 0.43529412 0.34117647 0.25490196 0.17254902 0.39215686 0.97647059 0.95294118 0.95294118 0.95294118 0.94901961 0.96862745 0.83137255 0.03529412 0.         0.         0.         0.02745098 0.81176471 0.96862745 0.95294118 0.95294118 0.94901961 0.95294118]\n",
            " [0.94901961 0.95294118 0.94901961 0.94901961 0.96862745 0.98823529 0.98431373 0.96862745 0.9372549  0.9254902  0.95294118 0.95294118 0.95294118 0.95294118 0.94901961 0.98039216 0.7254902  0.00392157 0.         0.         0.         0.07843137 0.87843137 0.96470588 0.95294118 0.95294118 0.94901961 0.95294118]\n",
            " [0.94901961 0.95294118 0.94901961 0.95294118 0.94901961 0.95294118 0.95294118 0.95294118 0.95686275 0.95686275 0.94901961 0.94901961 0.95294118 0.94901961 0.95294118 0.99215686 0.4        0.         0.         0.         0.         0.22745098 0.96078431 0.95294118 0.95294118 0.95294118 0.94901961 0.95294118]\n",
            " [0.94901961 0.95294118 0.94901961 0.94901961 0.94901961 0.94901961 0.94901961 0.95294118 0.95294118 0.95294118 0.95294118 0.95294118 0.94901961 0.94901961 0.98823529 0.75294118 0.04313725 0.         0.         0.         0.         0.54117647 0.98823529 0.94901961 0.95294118 0.95294118 0.94901961 0.95294118]\n",
            " [0.94901961 0.95294118 0.94901961 0.94901961 0.94901961 0.94901961 0.94901961 0.95294118 0.95294118 0.95294118 0.95294118 0.94901961 0.94901961 0.98039216 0.84705882 0.14509804 0.         0.         0.         0.         0.10588235 0.88235294 0.96470588 0.94901961 0.95294118 0.95294118 0.94901961 0.95294118]\n",
            " [0.94901961 0.95294118 0.95294118 0.95294118 0.95294118 0.95294118 0.95294118 0.95294118 0.95294118 0.95294118 0.94901961 0.94901961 0.98039216 0.85882353 0.18431373 0.         0.         0.         0.         0.         0.59215686 0.98823529 0.94901961 0.95294118 0.95294118 0.95294118 0.95294118 0.95294118]\n",
            " [0.95294118 0.95294118 0.95294118 0.95294118 0.95294118 0.95294118 0.95294118 0.95294118 0.95294118 0.94901961 0.94901961 0.98039216 0.84705882 0.18039216 0.         0.         0.         0.         0.         0.32156863 0.96470588 0.95686275 0.94901961 0.95294118 0.95294118 0.95294118 0.95294118 0.94901961]\n",
            " [0.95294118 0.94901961 0.95294118 0.95294118 0.95294118 0.95294118 0.95294118 0.94901961 0.94901961 0.94901961 0.98431373 0.81568627 0.15686275 0.         0.         0.         0.         0.         0.20784314 0.89803922 0.96862745 0.94901961 0.94901961 0.94901961 0.94901961 0.94901961 0.95294118 0.94901961]\n",
            " [0.95294118 0.94901961 0.95294118 0.95294118 0.95294118 0.95294118 0.95294118 0.94901961 0.94901961 0.98823529 0.78039216 0.1254902  0.         0.         0.         0.         0.         0.19215686 0.86666667 0.97647059 0.94901961 0.94901961 0.94901961 0.94901961 0.94901961 0.94901961 0.95294118 0.94901961]\n",
            " [0.95294118 0.94901961 0.95294118 0.95294118 0.95294118 0.95294118 0.94901961 0.94901961 0.98823529 0.76470588 0.10196078 0.         0.         0.         0.         0.         0.22352941 0.8745098  0.97647059 0.94901961 0.94901961 0.94901961 0.94901961 0.94901961 0.94901961 0.94901961 0.95294118 0.94901961]\n",
            " [0.95294118 0.94901961 0.95294118 0.95294118 0.95294118 0.94901961 0.94901961 0.98431373 0.78039216 0.10196078 0.         0.         0.         0.         0.         0.27843137 0.90196078 0.97647059 0.94901961 0.94901961 0.95294118 0.94901961 0.94901961 0.94901961 0.94901961 0.94901961 0.95294118 0.94901961]\n",
            " [0.95294118 0.94901961 0.95294118 0.95294118 0.95294118 0.94901961 0.97647059 0.82745098 0.1254902  0.         0.         0.         0.         0.         0.33333333 0.93333333 0.97254902 0.94901961 0.94901961 0.95294118 0.95294118 0.94901961 0.94901961 0.94901961 0.94901961 0.94901961 0.95294118 0.94901961]\n",
            " [0.95294118 0.95294118 0.95294118 0.95294118 0.94901961 0.96470588 0.90196078 0.19215686 0.         0.         0.         0.         0.         0.36862745 0.94901961 0.96470588 0.94901961 0.94901961 0.95294118 0.95294118 0.95294118 0.95294118 0.95294118 0.95294118 0.95294118 0.95294118 0.95294118 0.94901961]\n",
            " [0.94901961 0.95294118 0.95294118 0.94901961 0.95294118 0.97254902 0.35294118 0.         0.         0.         0.         0.         0.34901961 0.98431373 0.99607843 0.98039216 0.98039216 0.98039216 0.98039216 0.98039216 0.98039216 0.98039216 0.95686275 0.94901961 0.95294118 0.95294118 0.95294118 0.95294118]\n",
            " [0.94901961 0.95294118 0.94901961 0.94901961 0.98431373 0.64313725 0.         0.         0.         0.         0.         0.05490196 0.61960784 0.70980392 0.69019608 0.69411765 0.69411765 0.69411765 0.69411765 0.69411765 0.69411765 0.69803922 0.90980392 0.95686275 0.95294118 0.95294118 0.94901961 0.95294118]\n",
            " [0.94901961 0.95294118 0.94901961 0.95686275 0.9372549  0.18039216 0.         0.         0.         0.         0.         0.00392157 0.         0.         0.         0.         0.         0.         0.         0.         0.         0.00392157 0.79607843 0.97254902 0.95294118 0.95294118 0.94901961 0.95294118]\n",
            " [0.94901961 0.95294118 0.94901961 0.98039216 0.6745098  0.         0.         0.         0.         0.         0.         0.         0.         0.         0.         0.         0.         0.         0.         0.         0.         0.01960784 0.8        0.97254902 0.95294118 0.95294118 0.94901961 0.95294118]\n",
            " [0.94901961 0.95294118 0.95294118 0.98431373 0.36862745 0.         0.         0.         0.         0.         0.         0.         0.         0.         0.         0.         0.         0.         0.         0.         0.         0.02352941 0.8        0.97254902 0.95294118 0.95294118 0.94901961 0.95294118]\n",
            " [0.95294118 0.94901961 0.95686275 0.93333333 0.14117647 0.         0.         0.         0.         0.         0.         0.         0.         0.         0.         0.         0.         0.         0.         0.         0.         0.         0.79607843 0.97254902 0.94901961 0.94901961 0.95294118 0.94901961]\n",
            " [0.94901961 0.95294118 0.95686275 0.90980392 0.43137255 0.38039216 0.38039216 0.38039216 0.38039216 0.38039216 0.38039216 0.38039216 0.38039216 0.38039216 0.38039216 0.38039216 0.38039216 0.38039216 0.38039216 0.38039216 0.38039216 0.39215686 0.8627451  0.96470588 0.95294118 0.95294118 0.94901961 0.95294118]]\n"
          ]
        },
        {
          "output_type": "display_data",
          "data": {
            "text/plain": [
              "<Figure size 640x480 with 1 Axes>"
            ],
            "image/png": "[encoded data removed]"
          },
          "metadata": {}
        },
        {
          "output_type": "stream",
          "name": "stdout",
          "text": [
            "\u001b[1m1/1\u001b[0m \u001b[32m━━━━━━━━━━━━━━━━━━━━\u001b[0m\u001b[37m\u001b[0m \u001b[1m0s\u001b[0m 21ms/step\n",
            "The predicted class is: [2]\n"
          ]
        },
        {
          "output_type": "display_data",
          "data": {
            "text/plain": [
              "<Figure size 640x480 with 1 Axes>"
            ],
            "image/png": "[encoded data removed]"
          },
          "metadata": {}
        }
      ]
    }
  ]
}